{
 "cells": [
  {
   "cell_type": "markdown",
   "metadata": {
    "id": "L2xAshEHJ10k"
   },
   "source": [
    "Document for Model training\n",
    "\n"
   ]
  },
  {
   "cell_type": "markdown",
   "metadata": {
    "id": "V4AfHQ06Mvog"
   },
   "source": [
    "Importing packages"
   ]
  },
  {
   "cell_type": "code",
   "execution_count": 1,
   "metadata": {},
   "outputs": [],
   "source": [
    "import matplotlib.pyplot as plt\n",
    "from synDataFunctionality.TreeLib import Tree, genTree\n",
    "import numpy as np\n",
    "from synDataFunctionality.genInputFromLabel import labelToInput\n"
   ]
  },
  {
   "attachments": {},
   "cell_type": "markdown",
   "metadata": {},
   "source": [
    "Setting Constants"
   ]
  },
  {
   "cell_type": "code",
   "execution_count": 2,
   "metadata": {},
   "outputs": [],
   "source": [
    "startX = 5\n",
    "startY = 360\n",
    "startAngle = 0\n",
    "starWidth = 15\n",
    "stopWidth = 3\n",
    "startLength = 20\n",
    "bifurcProb = 0.3"
   ]
  },
  {
   "attachments": {},
   "cell_type": "markdown",
   "metadata": {},
   "source": [
    "Make some trees "
   ]
  },
  {
   "cell_type": "code",
   "execution_count": 3,
   "metadata": {},
   "outputs": [],
   "source": [
    "from synDataFunctionality.saveSynData import genSynDat\n",
    "import torch.utils.data as td\n",
    "from DataLoaders import SynData"
   ]
  },
  {
   "attachments": {},
   "cell_type": "markdown",
   "metadata": {},
   "source": [
    "Make and save some synthetic data"
   ]
  },
  {
   "cell_type": "code",
   "execution_count": 19,
   "metadata": {},
   "outputs": [],
   "source": [
    "lst = [startX, startY, starWidth, startLength, startAngle, stopWidth]\n",
    "num = 9\n",
    "\n",
    "# make num samples\n",
    "genSynDat(\"SynDat/SynInput\", \"SynDat/SynLabel\", lst, (736, 736), num)\n"
   ]
  },
  {
   "attachments": {},
   "cell_type": "markdown",
   "metadata": {},
   "source": [
    "Test that we can make a dataSet and it outputs data as expected"
   ]
  },
  {
   "cell_type": "code",
   "execution_count": 20,
   "metadata": {},
   "outputs": [
    {
     "name": "stdout",
     "output_type": "stream",
     "text": [
      "torch.Size([1, 736, 736])\n",
      "torch.Size([1, 736, 736])\n"
     ]
    }
   ],
   "source": [
    "SynDataSet = SynData(\"SynDat/synInput\", \"SynDat/synLabel\")\n",
    "\n",
    "#Test we can retrieve data from Dataset\n",
    "test, lab = SynDataSet[0]\n",
    "print(test.shape)\n",
    "print(lab.shape)"
   ]
  },
  {
   "attachments": {},
   "cell_type": "markdown",
   "metadata": {},
   "source": [
    "Visualize synthetic generated data"
   ]
  },
  {
   "cell_type": "code",
   "execution_count": 21,
   "metadata": {},
   "outputs": [
    {
     "data": {
      "text/plain": [
       "'\\n#test that dataloader works, and show images\\ntest_loader = td.DataLoader(SynDataSet, batch_size=2)\\n\\ntestIter = iter(test_loader)\\nfor i in range(len(testIter)):\\n    imgs, labs = testIter.next()\\n    grid = torchvision.utils.make_grid(imgs) #.numpy()[0] hack to show tensor in plt\\n    plt.imshow(grid.numpy()[0], cmap=\"gray\", vmin=0, vmax=255)\\n    plt.show()\\n    lab_grid = torchvision.utils.make_grid(labs)\\n    plt.imshow(lab_grid.numpy()[0], cmap=\"gray\", vmin=0, vmax=1)\\n    plt.show()'"
      ]
     },
     "execution_count": 21,
     "metadata": {},
     "output_type": "execute_result"
    }
   ],
   "source": [
    "import torchvision\n",
    "\"\"\"\n",
    "#test that dataloader works, and show images\n",
    "test_loader = td.DataLoader(SynDataSet, batch_size=2)\n",
    "\n",
    "testIter = iter(test_loader)\n",
    "for i in range(len(testIter)):\n",
    "    imgs, labs = testIter.next()\n",
    "    grid = torchvision.utils.make_grid(imgs) #.numpy()[0] hack to show tensor in plt\n",
    "    plt.imshow(grid.numpy()[0], cmap=\"gray\", vmin=0, vmax=255)\n",
    "    plt.show()\n",
    "    lab_grid = torchvision.utils.make_grid(labs)\n",
    "    plt.imshow(lab_grid.numpy()[0], cmap=\"gray\", vmin=0, vmax=1)\n",
    "    plt.show()\"\"\""
   ]
  },
  {
   "attachments": {},
   "cell_type": "markdown",
   "metadata": {},
   "source": [
    "Check that transformations can be applied to dataSet"
   ]
  },
  {
   "cell_type": "code",
   "execution_count": 4,
   "metadata": {},
   "outputs": [],
   "source": [
    "#Test transformations work correctly on dataloader:\n",
    "from torchvision.transforms import RandomVerticalFlip, RandomHorizontalFlip, ColorJitter, CenterCrop, Normalize\n",
    "from torchvision.transforms.functional import rotate\n",
    "import torchvision\n",
    "\n",
    "t_both = [RandomHorizontalFlip(p=0.5),  RandomVerticalFlip(p=0.5)]\n",
    "#Maybe normalize imgs automatically in dataSet"
   ]
  },
  {
   "cell_type": "code",
   "execution_count": 5,
   "metadata": {},
   "outputs": [],
   "source": [
    "TransDataSet = SynData(\"SynDat/synInput\", \"SynDat/synLabel\", transforms_both=t_both)\n"
   ]
  },
  {
   "cell_type": "code",
   "execution_count": 6,
   "metadata": {},
   "outputs": [],
   "source": [
    "import torchvision\n",
    "import numpy as np\n",
    "\n",
    "#test that dataloader works, and show images\n",
    "trans_loader = td.DataLoader(TransDataSet, batch_size=2)\n",
    "\n",
    "transIter = iter(trans_loader)\n",
    "for i in range(len(transIter)):\n",
    "    imgs, labs = next(transIter)\n",
    "    grid = torchvision.utils.make_grid(imgs).numpy()[0]\n",
    "    #print(np.amax(np.array(imgs)))\n",
    "    #print(np.amin(np.array(imgs)))\n",
    "    plt.imshow(grid+1, cmap=\"gray\", vmin=0, vmax=255)\n",
    "    plt.show()\n",
    "    lab_grid = torchvision.utils.make_grid(labs).numpy()[0]\n",
    "    plt.imshow(lab_grid, cmap=\"gray\", vmin=0, vmax=1)\n",
    "    plt.show()"
   ]
  },
  {
   "attachments": {},
   "cell_type": "markdown",
   "metadata": {},
   "source": [
    "Experiment with Basic Unet (to test whether it works)"
   ]
  },
  {
   "attachments": {},
   "cell_type": "markdown",
   "metadata": {},
   "source": [
    "Import packages and files for Unet and training"
   ]
  },
  {
   "cell_type": "code",
   "execution_count": 25,
   "metadata": {},
   "outputs": [],
   "source": [
    "from Unet.UNetBasic import UnetBasic\n",
    "import torch\n",
    "import torch.optim as optim\n",
    "import torch.nn as nn\n",
    "import torch.cuda\n"
   ]
  },
  {
   "cell_type": "code",
   "execution_count": 26,
   "metadata": {},
   "outputs": [
    {
     "name": "stdout",
     "output_type": "stream",
     "text": [
      "cuda:0\n"
     ]
    }
   ],
   "source": [
    "#make Unet\n",
    "\n",
    "net1 = UnetBasic()\n",
    "\n",
    "#Try to use cuda machine\n",
    "\n",
    "device = torch.device(\"cuda:0\" if torch.cuda.is_available() else \"cpu\")\n",
    "\n",
    "#check which device we are on\n",
    "\n",
    "print(device)\n"
   ]
  },
  {
   "attachments": {},
   "cell_type": "markdown",
   "metadata": {},
   "source": [
    "Make training and testing images. Apply random transformations to them:"
   ]
  },
  {
   "cell_type": "code",
   "execution_count": 27,
   "metadata": {},
   "outputs": [],
   "source": [
    "#note, we comment our genSynDat, as otherwise we kill previous generated data.\n",
    "\n",
    "\n",
    "#Make 300 samples for training data:\n",
    "#genSynDat(\"SynDat/SynInputTrain\", \"SynDat/SynLabelTrain\", lst, (736, 736), 300)\n",
    "\n",
    "#Make 50 samples as test data:\n",
    "#genSynDat(\"SynDat/SynInputTest\", \"SynDat/SynLabelTest\", lst, (736, 736), 50)"
   ]
  },
  {
   "cell_type": "code",
   "execution_count": 28,
   "metadata": {},
   "outputs": [],
   "source": [
    "#Make datasets\n",
    "\n",
    "trainingData = SynData(\"SynDat/SynInputTrain\", \"SynDat/SynLabelTrain\", t_both)\n",
    "testData = SynData(\"SynDat/SynInputTest\", \"SynDat/SynLabelTest\", t_both)\n",
    "\n",
    "trainLoader = td.DataLoader(trainingData, shuffle=True)\n",
    "testLoader = td.DataLoader(testData, shuffle=True)"
   ]
  },
  {
   "attachments": {},
   "cell_type": "markdown",
   "metadata": {},
   "source": [
    "Training our basic Unet"
   ]
  },
  {
   "cell_type": "code",
   "execution_count": 29,
   "metadata": {},
   "outputs": [
    {
     "name": "stdout",
     "output_type": "stream",
     "text": [
      "[1,     5] loss: 0.132\n",
      "[1,    10] loss: 0.114\n",
      "[1,    15] loss: 0.104\n",
      "[1,    20] loss: 0.097\n",
      "[1,    25] loss: 0.090\n",
      "[1,    30] loss: 0.085\n",
      "[1,    35] loss: 0.082\n",
      "[1,    40] loss: 0.078\n",
      "[1,    45] loss: 0.074\n",
      "[1,    50] loss: 0.070\n",
      "[1,    55] loss: 0.068\n",
      "[1,    60] loss: 0.065\n",
      "[1,    65] loss: 0.062\n",
      "[1,    70] loss: 0.060\n",
      "[1,    75] loss: 0.057\n",
      "[1,    80] loss: 0.054\n",
      "[1,    85] loss: 0.052\n",
      "[1,    90] loss: 0.049\n",
      "[1,    95] loss: 0.047\n",
      "[1,   100] loss: 0.045\n",
      "[1,   105] loss: 0.044\n",
      "[1,   110] loss: 0.042\n",
      "[1,   115] loss: 0.040\n",
      "[1,   120] loss: 0.038\n",
      "[1,   125] loss: 0.036\n",
      "[1,   130] loss: 0.035\n",
      "[1,   135] loss: 0.033\n",
      "[1,   140] loss: 0.032\n",
      "[1,   145] loss: 0.031\n",
      "[1,   150] loss: 0.029\n",
      "[1,   155] loss: 0.028\n",
      "[1,   160] loss: 0.027\n",
      "[1,   165] loss: 0.027\n",
      "[1,   170] loss: 0.025\n",
      "[1,   175] loss: 0.024\n",
      "[1,   180] loss: 0.023\n",
      "[1,   185] loss: 0.021\n",
      "[1,   190] loss: 0.021\n",
      "[1,   195] loss: 0.020\n",
      "[1,   200] loss: 0.019\n",
      "[1,   205] loss: 0.018\n",
      "[1,   210] loss: 0.017\n",
      "[1,   215] loss: 0.016\n",
      "[1,   220] loss: 0.016\n",
      "[1,   225] loss: 0.015\n",
      "[1,   230] loss: 0.015\n",
      "[1,   235] loss: 0.018\n",
      "[1,   240] loss: 0.014\n",
      "[1,   245] loss: 0.013\n",
      "[1,   250] loss: 0.013\n",
      "[1,   255] loss: 0.014\n",
      "[1,   260] loss: 0.012\n",
      "[1,   265] loss: 0.011\n",
      "[1,   270] loss: 0.012\n",
      "[1,   275] loss: 0.011\n",
      "[1,   280] loss: 0.011\n",
      "[1,   285] loss: 0.010\n",
      "[1,   290] loss: 0.010\n",
      "[1,   295] loss: 0.009\n",
      "[1,   300] loss: 0.009\n",
      "[2,     5] loss: 0.009\n",
      "[2,    10] loss: 0.009\n",
      "[2,    15] loss: 0.008\n",
      "[2,    20] loss: 0.008\n",
      "[2,    25] loss: 0.009\n",
      "[2,    30] loss: 0.008\n",
      "[2,    35] loss: 0.008\n",
      "[2,    40] loss: 0.007\n",
      "[2,    45] loss: 0.007\n",
      "[2,    50] loss: 0.007\n",
      "[2,    55] loss: 0.007\n",
      "[2,    60] loss: 0.007\n",
      "[2,    65] loss: 0.006\n",
      "[2,    70] loss: 0.006\n",
      "[2,    75] loss: 0.006\n",
      "[2,    80] loss: 0.006\n",
      "[2,    85] loss: 0.006\n",
      "[2,    90] loss: 0.006\n",
      "[2,    95] loss: 0.006\n",
      "[2,   100] loss: 0.006\n",
      "[2,   105] loss: 0.005\n",
      "[2,   110] loss: 0.005\n",
      "[2,   115] loss: 0.005\n",
      "[2,   120] loss: 0.006\n",
      "[2,   125] loss: 0.005\n",
      "[2,   130] loss: 0.005\n",
      "[2,   135] loss: 0.005\n",
      "[2,   140] loss: 0.005\n",
      "[2,   145] loss: 0.004\n",
      "[2,   150] loss: 0.004\n",
      "[2,   155] loss: 0.004\n",
      "[2,   160] loss: 0.004\n",
      "[2,   165] loss: 0.004\n",
      "[2,   170] loss: 0.004\n",
      "[2,   175] loss: 0.004\n",
      "[2,   180] loss: 0.004\n",
      "[2,   185] loss: 0.004\n",
      "[2,   190] loss: 0.004\n",
      "[2,   195] loss: 0.004\n",
      "[2,   200] loss: 0.004\n",
      "[2,   205] loss: 0.004\n",
      "[2,   210] loss: 0.004\n",
      "[2,   215] loss: 0.003\n",
      "[2,   220] loss: 0.003\n",
      "[2,   225] loss: 0.003\n",
      "[2,   230] loss: 0.003\n",
      "[2,   235] loss: 0.003\n",
      "[2,   240] loss: 0.003\n",
      "[2,   245] loss: 0.003\n",
      "[2,   250] loss: 0.003\n",
      "[2,   255] loss: 0.003\n",
      "[2,   260] loss: 0.003\n",
      "[2,   265] loss: 0.003\n",
      "[2,   270] loss: 0.003\n",
      "[2,   275] loss: 0.003\n",
      "[2,   280] loss: 0.003\n",
      "[2,   285] loss: 0.003\n",
      "[2,   290] loss: 0.003\n",
      "[2,   295] loss: 0.002\n",
      "[2,   300] loss: 0.002\n",
      "[3,     5] loss: 0.002\n",
      "[3,    10] loss: 0.002\n",
      "[3,    15] loss: 0.002\n",
      "[3,    20] loss: 0.002\n",
      "[3,    25] loss: 0.002\n",
      "[3,    30] loss: 0.002\n",
      "[3,    35] loss: 0.002\n",
      "[3,    40] loss: 0.002\n",
      "[3,    45] loss: 0.003\n",
      "[3,    50] loss: 0.002\n",
      "[3,    55] loss: 0.002\n",
      "[3,    60] loss: 0.002\n",
      "[3,    65] loss: 0.002\n",
      "[3,    70] loss: 0.002\n",
      "[3,    75] loss: 0.002\n",
      "[3,    80] loss: 0.002\n",
      "[3,    85] loss: 0.002\n",
      "[3,    90] loss: 0.002\n",
      "[3,    95] loss: 0.002\n",
      "[3,   100] loss: 0.002\n",
      "[3,   105] loss: 0.003\n",
      "[3,   110] loss: 0.003\n",
      "[3,   115] loss: 0.002\n",
      "[3,   120] loss: 0.002\n",
      "[3,   125] loss: 0.002\n",
      "[3,   130] loss: 0.002\n",
      "[3,   135] loss: 0.002\n",
      "[3,   140] loss: 0.002\n",
      "[3,   145] loss: 0.002\n",
      "[3,   150] loss: 0.002\n",
      "[3,   155] loss: 0.002\n",
      "[3,   160] loss: 0.001\n",
      "[3,   165] loss: 0.002\n",
      "[3,   170] loss: 0.001\n",
      "[3,   175] loss: 0.002\n",
      "[3,   180] loss: 0.001\n",
      "[3,   185] loss: 0.001\n",
      "[3,   190] loss: 0.001\n",
      "[3,   195] loss: 0.001\n",
      "[3,   200] loss: 0.001\n",
      "[3,   205] loss: 0.001\n",
      "[3,   210] loss: 0.002\n",
      "[3,   215] loss: 0.002\n",
      "[3,   220] loss: 0.001\n",
      "[3,   225] loss: 0.001\n",
      "[3,   230] loss: 0.001\n",
      "[3,   235] loss: 0.001\n",
      "[3,   240] loss: 0.001\n",
      "[3,   245] loss: 0.001\n",
      "[3,   250] loss: 0.001\n",
      "[3,   255] loss: 0.002\n",
      "[3,   260] loss: 0.001\n",
      "[3,   265] loss: 0.001\n",
      "[3,   270] loss: 0.002\n",
      "[3,   275] loss: 0.001\n",
      "[3,   280] loss: 0.001\n",
      "[3,   285] loss: 0.001\n",
      "[3,   290] loss: 0.001\n",
      "[3,   295] loss: 0.001\n",
      "[3,   300] loss: 0.001\n",
      "[4,     5] loss: 0.001\n",
      "[4,    10] loss: 0.001\n",
      "[4,    15] loss: 0.001\n",
      "[4,    20] loss: 0.001\n",
      "[4,    25] loss: 0.001\n",
      "[4,    30] loss: 0.001\n",
      "[4,    35] loss: 0.002\n",
      "[4,    40] loss: 0.001\n",
      "[4,    45] loss: 0.001\n",
      "[4,    50] loss: 0.001\n",
      "[4,    55] loss: 0.001\n",
      "[4,    60] loss: 0.001\n",
      "[4,    65] loss: 0.001\n",
      "[4,    70] loss: 0.001\n",
      "[4,    75] loss: 0.001\n",
      "[4,    80] loss: 0.001\n",
      "[4,    85] loss: 0.002\n",
      "[4,    90] loss: 0.001\n",
      "[4,    95] loss: 0.001\n",
      "[4,   100] loss: 0.001\n",
      "[4,   105] loss: 0.001\n",
      "[4,   110] loss: 0.001\n",
      "[4,   115] loss: 0.001\n",
      "[4,   120] loss: 0.001\n",
      "[4,   125] loss: 0.001\n",
      "[4,   130] loss: 0.001\n",
      "[4,   135] loss: 0.001\n",
      "[4,   140] loss: 0.001\n",
      "[4,   145] loss: 0.001\n",
      "[4,   150] loss: 0.001\n",
      "[4,   155] loss: 0.001\n",
      "[4,   160] loss: 0.001\n",
      "[4,   165] loss: 0.001\n",
      "[4,   170] loss: 0.001\n",
      "[4,   175] loss: 0.001\n",
      "[4,   180] loss: 0.001\n",
      "[4,   185] loss: 0.001\n",
      "[4,   190] loss: 0.001\n",
      "[4,   195] loss: 0.001\n",
      "[4,   200] loss: 0.001\n",
      "[4,   205] loss: 0.001\n",
      "[4,   210] loss: 0.001\n",
      "[4,   215] loss: 0.001\n",
      "[4,   220] loss: 0.001\n",
      "[4,   225] loss: 0.001\n",
      "[4,   230] loss: 0.001\n",
      "[4,   235] loss: 0.001\n",
      "[4,   240] loss: 0.001\n",
      "[4,   245] loss: 0.001\n",
      "[4,   250] loss: 0.001\n",
      "[4,   255] loss: 0.001\n",
      "[4,   260] loss: 0.001\n",
      "[4,   265] loss: 0.001\n",
      "[4,   270] loss: 0.001\n",
      "[4,   275] loss: 0.001\n",
      "[4,   280] loss: 0.001\n",
      "[4,   285] loss: 0.001\n",
      "[4,   290] loss: 0.001\n",
      "[4,   295] loss: 0.001\n",
      "[4,   300] loss: 0.001\n",
      "[5,     5] loss: 0.001\n",
      "[5,    10] loss: 0.001\n",
      "[5,    15] loss: 0.001\n",
      "[5,    20] loss: 0.001\n",
      "[5,    25] loss: 0.001\n",
      "[5,    30] loss: 0.001\n",
      "[5,    35] loss: 0.001\n",
      "[5,    40] loss: 0.001\n",
      "[5,    45] loss: 0.001\n",
      "[5,    50] loss: 0.002\n",
      "[5,    55] loss: 0.001\n",
      "[5,    60] loss: 0.001\n",
      "[5,    65] loss: 0.001\n",
      "[5,    70] loss: 0.001\n",
      "[5,    75] loss: 0.001\n",
      "[5,    80] loss: 0.001\n",
      "[5,    85] loss: 0.001\n",
      "[5,    90] loss: 0.001\n",
      "[5,    95] loss: 0.001\n",
      "[5,   100] loss: 0.001\n",
      "[5,   105] loss: 0.001\n",
      "[5,   110] loss: 0.001\n",
      "[5,   115] loss: 0.001\n",
      "[5,   120] loss: 0.001\n",
      "[5,   125] loss: 0.001\n",
      "[5,   130] loss: 0.000\n",
      "[5,   135] loss: 0.000\n",
      "[5,   140] loss: 0.000\n",
      "[5,   145] loss: 0.001\n",
      "[5,   150] loss: 0.001\n",
      "[5,   155] loss: 0.000\n",
      "[5,   160] loss: 0.000\n",
      "[5,   165] loss: 0.000\n",
      "[5,   170] loss: 0.001\n",
      "[5,   175] loss: 0.001\n",
      "[5,   180] loss: 0.001\n",
      "[5,   185] loss: 0.000\n",
      "[5,   190] loss: 0.000\n",
      "[5,   195] loss: 0.001\n",
      "[5,   200] loss: 0.000\n",
      "[5,   205] loss: 0.000\n",
      "[5,   210] loss: 0.000\n",
      "[5,   215] loss: 0.000\n",
      "[5,   220] loss: 0.001\n",
      "[5,   225] loss: 0.001\n",
      "[5,   230] loss: 0.000\n",
      "[5,   235] loss: 0.001\n",
      "[5,   240] loss: 0.000\n",
      "[5,   245] loss: 0.001\n",
      "[5,   250] loss: 0.001\n",
      "[5,   255] loss: 0.000\n",
      "[5,   260] loss: 0.000\n",
      "[5,   265] loss: 0.000\n",
      "[5,   270] loss: 0.000\n",
      "[5,   275] loss: 0.000\n",
      "[5,   280] loss: 0.001\n",
      "[5,   285] loss: 0.000\n",
      "[5,   290] loss: 0.000\n",
      "[5,   295] loss: 0.000\n",
      "[5,   300] loss: 0.000\n",
      "Finished training! :^)\n"
     ]
    }
   ],
   "source": [
    "from trainingFunctionality import trainLoop\n",
    "\n",
    "net1.to(device) #For now is cpu, but will hopefully be CUDA later\n",
    "net1 = net1.float() #hack that should remove float error\n",
    "\n",
    "#Adam for now\n",
    "optimizer = optim.Adam(net1.parameters(), lr=0.001)\n",
    "criterion = nn.BCELoss()\n",
    "criterion.to(device)\n",
    "epochs = 5\n",
    "\n",
    "#Training, pray for me. Idea; only print av. epoch error. Decide later\n",
    "trainLoss, testLoss, net = trainLoop(net1, optimizer, criterion, device, epochs, trainLoader, testLoader, print_interv=5)"
   ]
  },
  {
   "attachments": {},
   "cell_type": "markdown",
   "metadata": {},
   "source": [
    "Save model, such that we do not need to retrain"
   ]
  },
  {
   "cell_type": "code",
   "execution_count": 30,
   "metadata": {},
   "outputs": [
    {
     "data": {
      "text/plain": [
       "<All keys matched successfully>"
      ]
     },
     "execution_count": 30,
     "metadata": {},
     "output_type": "execute_result"
    }
   ],
   "source": [
    "#save model\n",
    "modelPath = \"savedModels/\"\n",
    "UnetName = \"FirstUnet\"\n",
    "saveModel = False\n",
    "\n",
    "#save model\n",
    "torch.save(net.state_dict(), (modelPath + UnetName))\n",
    "\n",
    "#Create unet\n",
    "unetBasic = UnetBasic().to(device)\n",
    "#load trained model's parameters into unet\n",
    "unetBasic.load_state_dict(torch.load((modelPath + UnetName)))"
   ]
  },
  {
   "cell_type": "code",
   "execution_count": 34,
   "metadata": {},
   "outputs": [
    {
     "name": "stdout",
     "output_type": "stream",
     "text": [
      "[0.6308110356330872, 0.564461350440979, 0.5130776166915894, 0.47463470697402954, 0.44594502449035645, 0.4219803214073181, 0.4022577106952667, 0.38375726342201233, 0.3752394914627075, 0.3507709503173828, 0.33388084173202515, 0.31879106163978577, 0.3087765574455261, 0.29757148027420044, 0.2800254225730896, 0.2681008577346802, 0.2575618326663971, 0.2450276017189026, 0.2368926852941513, 0.22681008279323578, 0.21950943768024445, 0.20416909456253052, 0.20114536583423615, 0.19651766121387482, 0.18077580630779266, 0.16942782700061798, 0.16747230291366577, 0.16057109832763672, 0.150922954082489, 0.14710097014904022, 0.1366136074066162, 0.13080379366874695, 0.12614139914512634, 0.12143423408269882, 0.11587688326835632, 0.11043691635131836, 0.10659667104482651, 0.10035518556833267, 0.09683447331190109, 0.09605952352285385, 0.09062696993350983, 0.08570229262113571, 0.08217338472604752, 0.07856778800487518, 0.07525976747274399, 0.07350195944309235, 0.07092076539993286, 0.06930974125862122, 0.07080157846212387, 0.06426823139190674, 0.06307245790958405, 0.0608079768717289, 0.05869552865624428, 0.055284611880779266, 0.053953737020492554, 0.05610740929841995, 0.05269430950284004, 0.04938060790300369, 0.0474308580160141, 0.04668080061674118, 0.046631261706352234, 0.04440061002969742, 0.04523799195885658, 0.040264006704092026, 0.041622888296842575, 0.039991289377212524, 0.03838920593261719, 0.03675324469804764, 0.035626042634248734, 0.03608928993344307, 0.03406684845685959, 0.03269096836447716, 0.031868837773799896, 0.03168205916881561, 0.030008336529135704, 0.029303090646862984, 0.028519900515675545, 0.02887076698243618, 0.02759198658168316, 0.02666391246020794, 0.02671509049832821, 0.02520076185464859, 0.026158655062317848, 0.025332367047667503, 0.023488961160182953, 0.023219378665089607, 0.022261332720518112, 0.02352696843445301, 0.02150176651775837, 0.020939800888299942, 0.021089334040880203, 0.020252030342817307, 0.021181991323828697, 0.019940292462706566, 0.01916620507836342, 0.01892934739589691, 0.018240923061966896, 0.017789160832762718, 0.01770208217203617, 0.018061568960547447, 0.017774084582924843, 0.01673290692269802, 0.017445681616663933, 0.016172243282198906, 0.017300110310316086, 0.015464811585843563, 0.01541933510452509, 0.015226319432258606, 0.014614830724895, 0.014195437543094158, 0.013895172625780106, 0.013800343498587608, 0.013678885996341705, 0.01361857634037733, 0.014608561992645264, 0.012567454017698765, 0.012449512258172035, 0.01214899867773056, 0.013516451232135296, 0.012424702756106853, 0.011913415044546127, 0.01159326359629631, 0.011278044432401657, 0.0117234718054533, 0.010709693655371666, 0.011215702630579472, 0.010553749278187752, 0.010476970113813877, 0.0102574797347188, 0.010213831439614296, 0.010347689501941204, 0.00972437858581543, 0.010350474156439304, 0.009718888439238071, 0.009709273464977741, 0.009518095292150974, 0.009286319836974144, 0.009258062578737736, 0.009135441854596138, 0.00891895405948162, 0.008768334053456783, 0.008776061236858368, 0.008491309359669685, 0.008559116162359715, 0.008361919783055782, 0.00857544969767332, 0.007983478717505932, 0.008501713164150715, 0.00882713496685028, 0.007876941002905369, 0.00786986667662859, 0.007420673500746489, 0.0075522311963140965, 0.0073058572597801685, 0.007102171890437603, 0.0071697295643389225, 0.007410985417664051, 0.007112135645002127, 0.006901561748236418, 0.006791692692786455, 0.006694355979561806, 0.006596388295292854, 0.00646401708945632, 0.006346375681459904, 0.007404325995594263, 0.007377786096185446, 0.007253424264490604, 0.006232609041035175, 0.005957305897027254, 0.0058640786446630955, 0.006754777394235134, 0.006180793512612581, 0.00643716286867857, 0.005835037678480148, 0.006036941893398762, 0.005689364857971668, 0.005891829263418913, 0.005665418691933155, 0.005921779200434685, 0.0069266427308321, 0.005992162972688675, 0.005348657723516226, 0.00547553738579154, 0.00512075237929821, 0.005270058289170265, 0.0053827883675694466, 0.004916984587907791, 0.005915286019444466, 0.004796169698238373, 0.0048386100679636, 0.00466240756213665, 0.0047819060273468494, 0.004960897844284773, 0.004612803924828768, 0.004628178663551807, 0.004422650672495365, 0.004391953349113464, 0.004759165924042463, 0.00449757743626833, 0.004475514404475689, 0.004523102659732103, 0.004261086229234934, 0.0049794879741966724, 0.0040984018705785275, 0.004269109573215246, 0.004280878230929375, 0.0039911651983857155, 0.004189842380583286, 0.003917749971151352, 0.0040236106142401695, 0.0037958293687552214, 0.004012599121779203, 0.003771220799535513, 0.0038420171476900578, 0.0037852248642593622, 0.004001114051789045, 0.003629494458436966, 0.0036764193791896105, 0.0035476693883538246, 0.0036240334156900644, 0.006919315550476313, 0.003992321435362101, 0.003891747910529375, 0.003856889670714736, 0.004684027284383774, 0.0039933426305651665, 0.0037272535264492035, 0.00377789419144392, 0.003556351875886321, 0.003767672460526228, 0.003427017480134964, 0.003389383666217327, 0.003280589124187827, 0.00442312890663743, 0.003494036616757512, 0.003299179021269083, 0.0033758704084903, 0.0033126315101981163, 0.0031871236860752106, 0.002963131060823798, 0.0032448964193463326, 0.003117543878033757, 0.003090237732976675, 0.0031479583121836185, 0.0031107694376260042, 0.0029605089221149683, 0.002801227383315563, 0.002773185493424535, 0.002843636553734541, 0.0028050257824361324, 0.0028490556869655848, 0.0028975578024983406, 0.0030662433709949255, 0.0029131912160664797, 0.002687497530132532, 0.0035775136202573776, 0.0026427118573337793, 0.0029896388296037912, 0.0031830118969082832, 0.002916777739301324, 0.0028004911728203297, 0.0027608282398432493, 0.002596830017864704, 0.0026064591947942972, 0.002489435253664851, 0.0025069196708500385, 0.002760207047685981, 0.002366787986829877, 0.0024225267115980387, 0.0024166873190551996, 0.002382466569542885, 0.002280009211972356, 0.002293929224833846, 0.002531385747715831, 0.0027510905638337135, 0.003156609833240509, 0.002351204166188836, 0.002474455861374736, 0.002188371727243066, 0.0022411751560866833, 0.0021594944410026073, 0.0021536629647016525, 0.0023765750229358673, 0.002140332944691181, 0.0022283128928393126, 0.0029771896079182625, 0.0023870894219726324, 0.0020832770969718695, 0.0023306286893785, 0.0021705771796405315, 0.0024075054097920656, 0.0020061132963746786, 0.002172403037548065, 0.0021074595861136913, 0.0021087145432829857, 0.0029238222632557154, 0.002014394151046872, 0.001987229101359844, 0.0027397300582379103, 0.0018683538073673844]\n",
      "[   3.15405518    8.15405518   13.15405518   18.15405518   23.15405518\n",
      "   28.15405518   33.15405518   38.15405518   43.15405518   48.15405518\n",
      "   53.15405518   58.15405518   63.15405518   68.15405518   73.15405518\n",
      "   78.15405518   83.15405518   88.15405518   93.15405518   98.15405518\n",
      "  103.15405518  108.15405518  113.15405518  118.15405518  123.15405518\n",
      "  128.15405518  133.15405518  138.15405518  143.15405518  148.15405518\n",
      "  153.15405518  158.15405518  163.15405518  168.15405518  173.15405518\n",
      "  178.15405518  183.15405518  188.15405518  193.15405518  198.15405518\n",
      "  203.15405518  208.15405518  213.15405518  218.15405518  223.15405518\n",
      "  228.15405518  233.15405518  238.15405518  243.15405518  248.15405518\n",
      "  253.15405518  258.15405518  263.15405518  268.15405518  273.15405518\n",
      "  278.15405518  283.15405518  288.15405518  293.15405518  298.15405518\n",
      "  303.15405518  308.15405518  313.15405518  318.15405518  323.15405518\n",
      "  328.15405518  333.15405518  338.15405518  343.15405518  348.15405518\n",
      "  353.15405518  358.15405518  363.15405518  368.15405518  373.15405518\n",
      "  378.15405518  383.15405518  388.15405518  393.15405518  398.15405518\n",
      "  403.15405518  408.15405518  413.15405518  418.15405518  423.15405518\n",
      "  428.15405518  433.15405518  438.15405518  443.15405518  448.15405518\n",
      "  453.15405518  458.15405518  463.15405518  468.15405518  473.15405518\n",
      "  478.15405518  483.15405518  488.15405518  493.15405518  498.15405518\n",
      "  503.15405518  508.15405518  513.15405518  518.15405518  523.15405518\n",
      "  528.15405518  533.15405518  538.15405518  543.15405518  548.15405518\n",
      "  553.15405518  558.15405518  563.15405518  568.15405518  573.15405518\n",
      "  578.15405518  583.15405518  588.15405518  593.15405518  598.15405518\n",
      "  603.15405518  608.15405518  613.15405518  618.15405518  623.15405518\n",
      "  628.15405518  633.15405518  638.15405518  643.15405518  648.15405518\n",
      "  653.15405518  658.15405518  663.15405518  668.15405518  673.15405518\n",
      "  678.15405518  683.15405518  688.15405518  693.15405518  698.15405518\n",
      "  703.15405518  708.15405518  713.15405518  718.15405518  723.15405518\n",
      "  728.15405518  733.15405518  738.15405518  743.15405518  748.15405518\n",
      "  753.15405518  758.15405518  763.15405518  768.15405518  773.15405518\n",
      "  778.15405518  783.15405518  788.15405518  793.15405518  798.15405518\n",
      "  803.15405518  808.15405518  813.15405518  818.15405518  823.15405518\n",
      "  828.15405518  833.15405518  838.15405518  843.15405518  848.15405518\n",
      "  853.15405518  858.15405518  863.15405518  868.15405518  873.15405518\n",
      "  878.15405518  883.15405518  888.15405518  893.15405518  898.15405518\n",
      "  903.15405518  908.15405518  913.15405518  918.15405518  923.15405518\n",
      "  928.15405518  933.15405518  938.15405518  943.15405518  948.15405518\n",
      "  953.15405518  958.15405518  963.15405518  968.15405518  973.15405518\n",
      "  978.15405518  983.15405518  988.15405518  993.15405518  998.15405518\n",
      " 1003.15405518 1008.15405518 1013.15405518 1018.15405518 1023.15405518\n",
      " 1028.15405518 1033.15405518 1038.15405518 1043.15405518 1048.15405518\n",
      " 1053.15405518 1058.15405518 1063.15405518 1068.15405518 1073.15405518\n",
      " 1078.15405518 1083.15405518 1088.15405518 1093.15405518 1098.15405518\n",
      " 1103.15405518 1108.15405518 1113.15405518 1118.15405518 1123.15405518\n",
      " 1128.15405518 1133.15405518 1138.15405518 1143.15405518 1148.15405518\n",
      " 1153.15405518 1158.15405518 1163.15405518 1168.15405518 1173.15405518\n",
      " 1178.15405518 1183.15405518 1188.15405518 1193.15405518 1198.15405518\n",
      " 1203.15405518 1208.15405518 1213.15405518 1218.15405518 1223.15405518\n",
      " 1228.15405518 1233.15405518 1238.15405518 1243.15405518 1248.15405518\n",
      " 1253.15405518 1258.15405518 1263.15405518 1268.15405518 1273.15405518\n",
      " 1278.15405518 1283.15405518 1288.15405518 1293.15405518 1298.15405518\n",
      " 1303.15405518 1308.15405518 1313.15405518 1318.15405518 1323.15405518\n",
      " 1328.15405518 1333.15405518 1338.15405518 1343.15405518 1348.15405518\n",
      " 1353.15405518 1358.15405518 1363.15405518 1368.15405518 1373.15405518\n",
      " 1378.15405518 1383.15405518 1388.15405518 1393.15405518 1398.15405518\n",
      " 1403.15405518 1408.15405518 1413.15405518 1418.15405518 1423.15405518\n",
      " 1428.15405518 1433.15405518 1438.15405518 1443.15405518 1448.15405518\n",
      " 1453.15405518 1458.15405518 1463.15405518 1468.15405518 1473.15405518\n",
      " 1478.15405518 1483.15405518 1488.15405518 1493.15405518 1498.15405518]\n"
     ]
    },
    {
     "data": {
      "image/png": "[encoded data removed]",
      "text/plain": [
       "<Figure size 432x288 with 1 Axes>"
      ]
     },
     "metadata": {
      "needs_background": "light"
     },
     "output_type": "display_data"
    },
    {
     "name": "stdout",
     "output_type": "stream",
     "text": [
      "[0.017774084582924843, 0.01673290692269802, 0.017445681616663933, 0.016172243282198906, 0.017300110310316086, 0.015464811585843563, 0.01541933510452509, 0.015226319432258606, 0.014614830724895, 0.014195437543094158, 0.013895172625780106, 0.013800343498587608, 0.013678885996341705, 0.01361857634037733, 0.014608561992645264, 0.012567454017698765, 0.012449512258172035, 0.01214899867773056, 0.013516451232135296, 0.012424702756106853, 0.011913415044546127, 0.01159326359629631, 0.011278044432401657, 0.0117234718054533, 0.010709693655371666, 0.011215702630579472, 0.010553749278187752, 0.010476970113813877, 0.0102574797347188, 0.010213831439614296, 0.010347689501941204, 0.00972437858581543, 0.010350474156439304, 0.009718888439238071, 0.009709273464977741, 0.009518095292150974, 0.009286319836974144, 0.009258062578737736, 0.009135441854596138, 0.00891895405948162, 0.008768334053456783, 0.008776061236858368, 0.008491309359669685, 0.008559116162359715, 0.008361919783055782, 0.00857544969767332, 0.007983478717505932, 0.008501713164150715, 0.00882713496685028, 0.007876941002905369, 0.00786986667662859, 0.007420673500746489, 0.0075522311963140965, 0.0073058572597801685, 0.007102171890437603, 0.0071697295643389225, 0.007410985417664051, 0.007112135645002127, 0.006901561748236418, 0.006791692692786455, 0.006694355979561806, 0.006596388295292854, 0.00646401708945632, 0.006346375681459904, 0.007404325995594263, 0.007377786096185446, 0.007253424264490604, 0.006232609041035175, 0.005957305897027254, 0.0058640786446630955, 0.006754777394235134, 0.006180793512612581, 0.00643716286867857, 0.005835037678480148, 0.006036941893398762, 0.005689364857971668, 0.005891829263418913, 0.005665418691933155, 0.005921779200434685, 0.0069266427308321, 0.005992162972688675, 0.005348657723516226, 0.00547553738579154, 0.00512075237929821, 0.005270058289170265, 0.0053827883675694466, 0.004916984587907791, 0.005915286019444466, 0.004796169698238373, 0.0048386100679636, 0.00466240756213665, 0.0047819060273468494, 0.004960897844284773, 0.004612803924828768, 0.004628178663551807, 0.004422650672495365, 0.004391953349113464, 0.004759165924042463, 0.00449757743626833, 0.004475514404475689, 0.004523102659732103, 0.004261086229234934, 0.0049794879741966724, 0.0040984018705785275, 0.004269109573215246, 0.004280878230929375, 0.0039911651983857155, 0.004189842380583286, 0.003917749971151352, 0.0040236106142401695, 0.0037958293687552214, 0.004012599121779203, 0.003771220799535513, 0.0038420171476900578, 0.0037852248642593622, 0.004001114051789045, 0.003629494458436966, 0.0036764193791896105, 0.0035476693883538246, 0.0036240334156900644, 0.006919315550476313, 0.003992321435362101, 0.003891747910529375, 0.003856889670714736, 0.004684027284383774, 0.0039933426305651665, 0.0037272535264492035, 0.00377789419144392, 0.003556351875886321, 0.003767672460526228, 0.003427017480134964, 0.003389383666217327, 0.003280589124187827, 0.00442312890663743, 0.003494036616757512, 0.003299179021269083, 0.0033758704084903, 0.0033126315101981163, 0.0031871236860752106, 0.002963131060823798, 0.0032448964193463326, 0.003117543878033757, 0.003090237732976675, 0.0031479583121836185, 0.0031107694376260042, 0.0029605089221149683, 0.002801227383315563, 0.002773185493424535, 0.002843636553734541, 0.0028050257824361324, 0.0028490556869655848, 0.0028975578024983406, 0.0030662433709949255, 0.0029131912160664797, 0.002687497530132532, 0.0035775136202573776, 0.0026427118573337793, 0.0029896388296037912, 0.0031830118969082832, 0.002916777739301324, 0.0028004911728203297, 0.0027608282398432493, 0.002596830017864704, 0.0026064591947942972, 0.002489435253664851, 0.0025069196708500385, 0.002760207047685981, 0.002366787986829877, 0.0024225267115980387, 0.0024166873190551996, 0.002382466569542885, 0.002280009211972356, 0.002293929224833846, 0.002531385747715831, 0.0027510905638337135, 0.003156609833240509, 0.002351204166188836, 0.002474455861374736, 0.002188371727243066, 0.0022411751560866833, 0.0021594944410026073, 0.0021536629647016525, 0.0023765750229358673, 0.002140332944691181, 0.0022283128928393126, 0.0029771896079182625, 0.0023870894219726324, 0.0020832770969718695, 0.0023306286893785, 0.0021705771796405315, 0.0024075054097920656, 0.0020061132963746786, 0.002172403037548065, 0.0021074595861136913, 0.0021087145432829857, 0.0029238222632557154, 0.002014394151046872, 0.001987229101359844, 0.0027397300582379103, 0.0018683538073673844]\n",
      "[8.88704229e-02 5.08887042e+00 1.00888704e+01 1.50888704e+01\n",
      " 2.00888704e+01 2.50888704e+01 3.00888704e+01 3.50888704e+01\n",
      " 4.00888704e+01 4.50888704e+01 5.00888704e+01 5.50888704e+01\n",
      " 6.00888704e+01 6.50888704e+01 7.00888704e+01 7.50888704e+01\n",
      " 8.00888704e+01 8.50888704e+01 9.00888704e+01 9.50888704e+01\n",
      " 1.00088870e+02 1.05088870e+02 1.10088870e+02 1.15088870e+02\n",
      " 1.20088870e+02 1.25088870e+02 1.30088870e+02 1.35088870e+02\n",
      " 1.40088870e+02 1.45088870e+02 1.50088870e+02 1.55088870e+02\n",
      " 1.60088870e+02 1.65088870e+02 1.70088870e+02 1.75088870e+02\n",
      " 1.80088870e+02 1.85088870e+02 1.90088870e+02 1.95088870e+02\n",
      " 2.00088870e+02 2.05088870e+02 2.10088870e+02 2.15088870e+02\n",
      " 2.20088870e+02 2.25088870e+02 2.30088870e+02 2.35088870e+02\n",
      " 2.40088870e+02 2.45088870e+02 2.50088870e+02 2.55088870e+02\n",
      " 2.60088870e+02 2.65088870e+02 2.70088870e+02 2.75088870e+02\n",
      " 2.80088870e+02 2.85088870e+02 2.90088870e+02 2.95088870e+02\n",
      " 3.00088870e+02 3.05088870e+02 3.10088870e+02 3.15088870e+02\n",
      " 3.20088870e+02 3.25088870e+02 3.30088870e+02 3.35088870e+02\n",
      " 3.40088870e+02 3.45088870e+02 3.50088870e+02 3.55088870e+02\n",
      " 3.60088870e+02 3.65088870e+02 3.70088870e+02 3.75088870e+02\n",
      " 3.80088870e+02 3.85088870e+02 3.90088870e+02 3.95088870e+02\n",
      " 4.00088870e+02 4.05088870e+02 4.10088870e+02 4.15088870e+02\n",
      " 4.20088870e+02 4.25088870e+02 4.30088870e+02 4.35088870e+02\n",
      " 4.40088870e+02 4.45088870e+02 4.50088870e+02 4.55088870e+02\n",
      " 4.60088870e+02 4.65088870e+02 4.70088870e+02 4.75088870e+02\n",
      " 4.80088870e+02 4.85088870e+02 4.90088870e+02 4.95088870e+02\n",
      " 5.00088870e+02 5.05088870e+02 5.10088870e+02 5.15088870e+02\n",
      " 5.20088870e+02 5.25088870e+02 5.30088870e+02 5.35088870e+02\n",
      " 5.40088870e+02 5.45088870e+02 5.50088870e+02 5.55088870e+02\n",
      " 5.60088870e+02 5.65088870e+02 5.70088870e+02 5.75088870e+02\n",
      " 5.80088870e+02 5.85088870e+02 5.90088870e+02 5.95088870e+02\n",
      " 6.00088870e+02 6.05088870e+02 6.10088870e+02 6.15088870e+02\n",
      " 6.20088870e+02 6.25088870e+02 6.30088870e+02 6.35088870e+02\n",
      " 6.40088870e+02 6.45088870e+02 6.50088870e+02 6.55088870e+02\n",
      " 6.60088870e+02 6.65088870e+02 6.70088870e+02 6.75088870e+02\n",
      " 6.80088870e+02 6.85088870e+02 6.90088870e+02 6.95088870e+02\n",
      " 7.00088870e+02 7.05088870e+02 7.10088870e+02 7.15088870e+02\n",
      " 7.20088870e+02 7.25088870e+02 7.30088870e+02 7.35088870e+02\n",
      " 7.40088870e+02 7.45088870e+02 7.50088870e+02 7.55088870e+02\n",
      " 7.60088870e+02 7.65088870e+02 7.70088870e+02 7.75088870e+02\n",
      " 7.80088870e+02 7.85088870e+02 7.90088870e+02 7.95088870e+02\n",
      " 8.00088870e+02 8.05088870e+02 8.10088870e+02 8.15088870e+02\n",
      " 8.20088870e+02 8.25088870e+02 8.30088870e+02 8.35088870e+02\n",
      " 8.40088870e+02 8.45088870e+02 8.50088870e+02 8.55088870e+02\n",
      " 8.60088870e+02 8.65088870e+02 8.70088870e+02 8.75088870e+02\n",
      " 8.80088870e+02 8.85088870e+02 8.90088870e+02 8.95088870e+02\n",
      " 9.00088870e+02 9.05088870e+02 9.10088870e+02 9.15088870e+02\n",
      " 9.20088870e+02 9.25088870e+02 9.30088870e+02 9.35088870e+02\n",
      " 9.40088870e+02 9.45088870e+02 9.50088870e+02 9.55088870e+02\n",
      " 9.60088870e+02 9.65088870e+02 9.70088870e+02 9.75088870e+02\n",
      " 9.80088870e+02 9.85088870e+02 9.90088870e+02 9.95088870e+02]\n"
     ]
    },
    {
     "data": {
      "image/png": "[encoded data removed]",
      "text/plain": [
       "<Figure size 432x288 with 1 Axes>"
      ]
     },
     "metadata": {
      "needs_background": "light"
     },
     "output_type": "display_data"
    }
   ],
   "source": [
    "from trainingFunctionality import visualizeLoss #need to fix\n",
    "visualizeLoss(\"Basic Unet\", 5, trainLoss, testLoss)\n",
    "visualizeLoss(\"Basic Unet\", 5, trainLoss[100:], testLoss[100:]) #something funky going on. Why does it stop at 1000 and not 1300??"
   ]
  },
  {
   "cell_type": "code",
   "execution_count": 32,
   "metadata": {},
   "outputs": [
    {
     "name": "stdout",
     "output_type": "stream",
     "text": [
      "f1 score: 0.99931\n",
      "\n",
      "f1 score: 0.99946\n",
      "\n",
      "f1 score: 0.99937\n",
      "\n",
      "f1 score: 0.99913\n",
      "\n",
      "f1 score: 0.99939\n",
      "\n",
      "f1 score: 0.99939\n",
      "\n",
      "f1 score: 0.99953\n",
      "\n",
      "f1 score: 0.99903\n",
      "\n",
      "f1 score: 0.99946\n",
      "\n",
      "Mean f1 score: 0.99934\n"
     ]
    }
   ],
   "source": [
    "from sklearn.metrics import f1_score\n",
    "#Visualize a prediction of transIter\n",
    "\n",
    "#Make test dataset\n",
    "testData = SynData(\"SynDat/SynInput/\", \"SynDat/SynLabel/\")\n",
    "testLoader = td.DataLoader(testData, shuffle=True)\n",
    "\n",
    "# Check if works with batches\n",
    "def testNet(net, testLoader, illustrate=False):\n",
    "    testIter = iter(testLoader)\n",
    "    acum_score = 0\n",
    "    for i in range(len(testIter)):\n",
    "        test_input, test_lab_orig = next(testIter)\n",
    "        #predict\n",
    "        test_input, test_lab = test_input.to(device), test_lab_orig.to(device)\n",
    "        #detach from device\n",
    "        test_out = (net(test_input.float())).cpu().detach() #put output back on cpu\n",
    "        #formatér\n",
    "        orig_lab = test_lab_orig.numpy()[0]\n",
    "        pred_lab = np.array(test_out.numpy()[0] > 0.5).astype(int)\n",
    "        #compute f1 score\n",
    "        score = f1_score(orig_lab[0], pred_lab[0], average=\"micro\")\n",
    "        acum_score += score\n",
    "\n",
    "        if illustrate:\n",
    "            print(\"actual label:\")\n",
    "            plt.imshow(torchvision.utils.make_grid(test_lab_orig).numpy()[0], cmap=\"gray\", vmin=0, vmax=1)\n",
    "            plt.show()\n",
    "            print(\"predicted lab:\")\n",
    "            plt.imshow(torchvision.utils.make_grid(test_out).numpy()[0] > 0.5, cmap=\"gray\", vmin=0, vmax=1)\n",
    "            plt.show()\n",
    "        #print f1 score\n",
    "        print(\"f1 score: {0:.5f}\".format(score))\n",
    "        print()\n",
    "    print(\"Mean f1 score: {0:.5f}\".format(acum_score/len(testLoader)))\n",
    "\n",
    "testNet(unetBasic, testLoader)"
   ]
  },
  {
   "attachments": {},
   "cell_type": "markdown",
   "metadata": {},
   "source": [
    "Kill all files created in this session, such to diminish clutter"
   ]
  },
  {
   "cell_type": "code",
   "execution_count": 33,
   "metadata": {},
   "outputs": [],
   "source": [
    "#kill generated files such that we diminish clutter\n",
    "from synDataFunctionality.saveSynData import order_66\n",
    "\n",
    "#order_66(\"SynDat/synInputTrain\", \"SynDat/synLabelTrain\")\n"
   ]
  }
 ],
 "metadata": {
  "colab": {
   "provenance": []
  },
  "kernelspec": {
   "display_name": "base",
   "language": "python",
   "name": "python3"
  },
  "language_info": {
   "codemirror_mode": {
    "name": "ipython",
    "version": 3
   },
   "file_extension": ".py",
   "mimetype": "text/x-python",
   "name": "python",
   "nbconvert_exporter": "python",
   "pygments_lexer": "ipython3",
   "version": "3.8.3"
  },
  "vscode": {
   "interpreter": {
    "hash": "dfa4efc2e7985e6916682396d3eaefec524ac10635f8db4811019e26e0d754ec"
   }
  }
 },
 "nbformat": 4,
 "nbformat_minor": 1
}
