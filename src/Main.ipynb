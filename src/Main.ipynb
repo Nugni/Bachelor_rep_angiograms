{
 "cells": [
  {
   "cell_type": "markdown",
   "metadata": {
    "id": "L2xAshEHJ10k"
   },
   "source": [
    "Document for Model training\n",
    "\n"
   ]
  },
  {
   "cell_type": "markdown",
   "metadata": {
    "id": "V4AfHQ06Mvog"
   },
   "source": [
    "Importing packages"
   ]
  },
  {
   "cell_type": "code",
   "execution_count": 64,
   "metadata": {},
   "outputs": [],
   "source": [
    "import random\n",
    "import math\n",
    "import matplotlib.pyplot as plt\n",
    "from PIL import ImageDraw, Image\n",
    "import bifurcationMathFunctions as bmf"
   ]
  },
  {
   "attachments": {},
   "cell_type": "markdown",
   "metadata": {},
   "source": [
    "Setting Constants"
   ]
  },
  {
   "cell_type": "code",
   "execution_count": 65,
   "metadata": {},
   "outputs": [],
   "source": [
    "startX = 5\n",
    "startY = 200\n",
    "startAngle = 0\n",
    "maxDepth = 15\n",
    "lengthMedian = 20\n",
    "lengthStdVar = 5\n",
    "biforcProb = 0.3\n",
    "bifurcBigLeft = 0.5\n",
    "angleBiforc = math.pi/8\n",
    "angleStdDev = math.pi/16"
   ]
  },
  {
   "attachments": {},
   "cell_type": "markdown",
   "metadata": {},
   "source": [
    "Auxillary Functions"
   ]
  },
  {
   "cell_type": "code",
   "execution_count": 71,
   "metadata": {},
   "outputs": [],
   "source": [
    "def newAngle(angle):\n",
    "    return random.gauss(angle, angleStdDev)\n",
    "\n",
    "def newCoords(coord, angle, width):\n",
    "    length = newLength(width)\n",
    "    x,y = coord\n",
    "    newX = x + math.cos(angle)*length\n",
    "    newY = y + math.sin(angle)*length\n",
    "    return newX,newY\n",
    "\n",
    "def newLength(width):\n",
    "    return 10*width + random.gauss(0, 2*width)"
   ]
  },
  {
   "attachments": {},
   "cell_type": "markdown",
   "metadata": {},
   "source": [
    "Synthetic Angiogram Class: Node"
   ]
  },
  {
   "cell_type": "code",
   "execution_count": 73,
   "metadata": {},
   "outputs": [],
   "source": [
    "class Node:\n",
    "    def __init__(self, coord, angle, width):\n",
    "        self.coord = coord\n",
    "        self.width = width\n",
    "        self.prev_length = newLength(width)\n",
    "        self.angle = angle\n",
    "        self.children = []\n",
    "\n",
    "    #Creates a child node\n",
    "    def createChild(self,angle):\n",
    "        newCoord = newCoords(self.coord, angle)\n",
    "        return Node(newCoord, angle, self.width-1)\n",
    "\n",
    "    #Creates and add either 1 or 2 children to the parent node.\n",
    "    def addChildren(self):\n",
    "        biforcation = (random.random() < biforcProb)\n",
    "        if biforcation:\n",
    "            #Make 2 children mirrored across an angle\n",
    "            if bifurcBigLeft < random.random():\n",
    "                angle1, angle2 = bmf.getThetas(0.5) #branches same thickness for now\n",
    "            else:\n",
    "                angle2, angle1 = bmf.getThetas(0.5)\n",
    "            leftChild = self.createChild(self.angle - angle1)#(se1f.angle + angleBiforc)\n",
    "            self.children.append(leftChild)\n",
    "            rightChild = self.createChild(self.angle + angle2)#(self.angle - angleBiforc)\n",
    "            self.children.append(rightChild)\n",
    "        else:\n",
    "            #Make 1 child following an angle\n",
    "            singleChild = self.createChild(self.angle)\n",
    "            self.children.append(singleChild)"
   ]
  },
  {
   "cell_type": "markdown",
   "metadata": {},
   "source": [
    "Synthetic Angiogram Class: Tree"
   ]
  },
  {
   "cell_type": "code",
   "execution_count": 68,
   "metadata": {},
   "outputs": [],
   "source": [
    "class Tree:\n",
    "    def __init__(self, x, y, startAngle, width):\n",
    "        self.addRoot(x,y, startAngle, width)\n",
    "        self.makeTree()\n",
    "\n",
    "    def addRoot(self, x, y, startAngle, width):\n",
    "        self.root = Node((x,y), startAngle, width)\n",
    "    \n",
    "    def growTree(self, node):\n",
    "        if node.width == 1:\n",
    "            return\n",
    "        else:\n",
    "            node.addChildren()\n",
    "            for child in node.children:\n",
    "                self.growTree(child)\n",
    "    \n",
    "    def makeTree(self):\n",
    "        self.growTree(self.root)\n",
    "        "
   ]
  },
  {
   "attachments": {},
   "cell_type": "markdown",
   "metadata": {},
   "source": [
    "Drawing Tree"
   ]
  },
  {
   "cell_type": "code",
   "execution_count": 69,
   "metadata": {},
   "outputs": [],
   "source": [
    "def nodeInside(cx, cy, X, Y):\n",
    "    return (cx < X and cx >= 0 and cy < Y and cy >= 0)\n",
    "\n",
    "def drawNode(node, draw):\n",
    "    if len(node.children) >= 1:\n",
    "        px, py = int(node.coord[0]), int(node.coord[1])\n",
    "        for child in node.children:\n",
    "            cx, cy = int(child.coord[0]), int(child.coord[1])\n",
    "            draw.line((px, py, cx, cy), fill = 255, width=child.width)\n",
    "            drawNode(child, draw)\n",
    "    else:\n",
    "        return\n",
    "\n",
    "#Makes a treewalk, and finds minimum and maximum x, y values for tree\n",
    "def drawTree(tree, dim):\n",
    "    img = Image.new(\"1\", dim)\n",
    "    draw = ImageDraw.Draw(img)\n",
    "    drawNode(tree.root, draw)\n",
    "    img.show()\n",
    "    return img\n",
    "#help function that draws line from parent to each of its children. Should check for borders"
   ]
  },
  {
   "attachments": {},
   "cell_type": "markdown",
   "metadata": {},
   "source": [
    "Executing"
   ]
  },
  {
   "cell_type": "code",
   "execution_count": 70,
   "metadata": {
    "colab": {
     "base_uri": "https://localhost:8080/",
     "height": 268
    },
    "id": "miGcOQhE1I5j",
    "outputId": "20404011-0294-49dd-c345-a9812b37ad25"
   },
   "outputs": [
    {
     "ename": "TypeError",
     "evalue": "newLength() missing 1 required positional argument: 'width'",
     "output_type": "error",
     "traceback": [
      "\u001b[1;31m---------------------------------------------------------------------------\u001b[0m",
      "\u001b[1;31mTypeError\u001b[0m                                 Traceback (most recent call last)",
      "Cell \u001b[1;32mIn[70], line 1\u001b[0m\n\u001b[1;32m----> 1\u001b[0m tree \u001b[39m=\u001b[39m Tree(startX, startY, startAngle, maxDepth)\n\u001b[0;32m      2\u001b[0m synAngio \u001b[39m=\u001b[39m drawTree(tree, (\u001b[39m400\u001b[39m, \u001b[39m400\u001b[39m))\n",
      "Cell \u001b[1;32mIn[68], line 4\u001b[0m, in \u001b[0;36mTree.__init__\u001b[1;34m(self, x, y, startAngle, width)\u001b[0m\n\u001b[0;32m      2\u001b[0m \u001b[39mdef\u001b[39;00m \u001b[39m__init__\u001b[39m(\u001b[39mself\u001b[39m, x, y, startAngle, width):\n\u001b[0;32m      3\u001b[0m     \u001b[39mself\u001b[39m\u001b[39m.\u001b[39maddRoot(x,y, startAngle, width)\n\u001b[1;32m----> 4\u001b[0m     \u001b[39mself\u001b[39;49m\u001b[39m.\u001b[39;49mmakeTree()\n",
      "Cell \u001b[1;32mIn[68], line 18\u001b[0m, in \u001b[0;36mTree.makeTree\u001b[1;34m(self)\u001b[0m\n\u001b[0;32m     17\u001b[0m \u001b[39mdef\u001b[39;00m \u001b[39mmakeTree\u001b[39m(\u001b[39mself\u001b[39m):\n\u001b[1;32m---> 18\u001b[0m     \u001b[39mself\u001b[39;49m\u001b[39m.\u001b[39;49mgrowTree(\u001b[39mself\u001b[39;49m\u001b[39m.\u001b[39;49mroot)\n",
      "Cell \u001b[1;32mIn[68], line 13\u001b[0m, in \u001b[0;36mTree.growTree\u001b[1;34m(self, node)\u001b[0m\n\u001b[0;32m     11\u001b[0m     \u001b[39mreturn\u001b[39;00m\n\u001b[0;32m     12\u001b[0m \u001b[39melse\u001b[39;00m:\n\u001b[1;32m---> 13\u001b[0m     node\u001b[39m.\u001b[39;49maddChildren()\n\u001b[0;32m     14\u001b[0m     \u001b[39mfor\u001b[39;00m child \u001b[39min\u001b[39;00m node\u001b[39m.\u001b[39mchildren:\n\u001b[0;32m     15\u001b[0m         \u001b[39mself\u001b[39m\u001b[39m.\u001b[39mgrowTree(child)\n",
      "Cell \u001b[1;32mIn[60], line 28\u001b[0m, in \u001b[0;36mNode.addChildren\u001b[1;34m(self)\u001b[0m\n\u001b[0;32m     25\u001b[0m     \u001b[39mself\u001b[39m\u001b[39m.\u001b[39mchildren\u001b[39m.\u001b[39mappend(rightChild)\n\u001b[0;32m     26\u001b[0m \u001b[39melse\u001b[39;00m:\n\u001b[0;32m     27\u001b[0m     \u001b[39m#Make 1 child following an angle\u001b[39;00m\n\u001b[1;32m---> 28\u001b[0m     singleChild \u001b[39m=\u001b[39m \u001b[39mself\u001b[39;49m\u001b[39m.\u001b[39;49mcreateChild(\u001b[39mself\u001b[39;49m\u001b[39m.\u001b[39;49mangle)\n\u001b[0;32m     29\u001b[0m     \u001b[39mself\u001b[39m\u001b[39m.\u001b[39mchildren\u001b[39m.\u001b[39mappend(singleChild)\n",
      "Cell \u001b[1;32mIn[60], line 10\u001b[0m, in \u001b[0;36mNode.createChild\u001b[1;34m(self, angle)\u001b[0m\n\u001b[0;32m      9\u001b[0m \u001b[39mdef\u001b[39;00m \u001b[39mcreateChild\u001b[39m(\u001b[39mself\u001b[39m,angle):\n\u001b[1;32m---> 10\u001b[0m     newCoord \u001b[39m=\u001b[39m newCoords(\u001b[39mself\u001b[39;49m\u001b[39m.\u001b[39;49mcoord, angle)\n\u001b[0;32m     11\u001b[0m     \u001b[39mreturn\u001b[39;00m Node(newCoord, angle, \u001b[39mself\u001b[39m\u001b[39m.\u001b[39mwidth\u001b[39m-\u001b[39m\u001b[39m1\u001b[39m)\n",
      "Cell \u001b[1;32mIn[66], line 5\u001b[0m, in \u001b[0;36mnewCoords\u001b[1;34m(coord, angle)\u001b[0m\n\u001b[0;32m      4\u001b[0m \u001b[39mdef\u001b[39;00m \u001b[39mnewCoords\u001b[39m(coord, angle):\n\u001b[1;32m----> 5\u001b[0m     length \u001b[39m=\u001b[39m newLength()\n\u001b[0;32m      6\u001b[0m     x,y \u001b[39m=\u001b[39m coord\n\u001b[0;32m      7\u001b[0m     newX \u001b[39m=\u001b[39m x \u001b[39m+\u001b[39m math\u001b[39m.\u001b[39mcos(angle)\u001b[39m*\u001b[39mlength\n",
      "\u001b[1;31mTypeError\u001b[0m: newLength() missing 1 required positional argument: 'width'"
     ]
    }
   ],
   "source": [
    "tree = Tree(startX, startY, startAngle, maxDepth)\n",
    "synAngio = drawTree(tree, (400, 400))"
   ]
  },
  {
   "cell_type": "code",
   "execution_count": 54,
   "metadata": {},
   "outputs": [],
   "source": [
    "#synAngio.save(\"test_image.PNG\")"
   ]
  }
 ],
 "metadata": {
  "colab": {
   "provenance": []
  },
  "kernelspec": {
   "display_name": "Python 3",
   "language": "python",
   "name": "python3"
  },
  "language_info": {
   "codemirror_mode": {
    "name": "ipython",
    "version": 3
   },
   "file_extension": ".py",
   "mimetype": "text/x-python",
   "name": "python",
   "nbconvert_exporter": "python",
   "pygments_lexer": "ipython3",
   "version": "3.11.0"
  },
  "vscode": {
   "interpreter": {
    "hash": "c261aea317cc0286b3b3261fbba9abdec21eaa57589985bb7a274bf54d6cc0a7"
   }
  }
 },
 "nbformat": 4,
 "nbformat_minor": 1
}
