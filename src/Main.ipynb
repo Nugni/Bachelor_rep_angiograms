{
 "cells": [
  {
   "cell_type": "markdown",
   "metadata": {
    "id": "L2xAshEHJ10k"
   },
   "source": [
    "Document for Model training\n",
    "\n"
   ]
  },
  {
   "cell_type": "markdown",
   "metadata": {
    "id": "V4AfHQ06Mvog"
   },
   "source": [
    "Importing packages"
   ]
  },
  {
   "cell_type": "code",
   "execution_count": 1,
   "metadata": {
    "id": "B75ELOW-MqdC"
   },
   "outputs": [],
   "source": [
    "import numpy as np\n",
    "from matplotlib import pyplot as plt\n",
    "from skimage.draw import line"
   ]
  },
  {
   "cell_type": "markdown",
   "metadata": {
    "id": "PTHaQaciN43p"
   },
   "source": [
    "Constants"
   ]
  },
  {
   "cell_type": "code",
   "execution_count": 2,
   "metadata": {
    "id": "uIzzTu9nJe49"
   },
   "outputs": [],
   "source": [
    "img_dim = (500, 500)"
   ]
  },
  {
   "cell_type": "code",
   "execution_count": 3,
   "metadata": {
    "id": "i1xzcSRrNBtJ"
   },
   "outputs": [],
   "source": [
    "#Test of Image\n",
    "\n",
    "#empty_img = np.zeros(img_dim)\n",
    "#empty_img[0:10,] = 1\n",
    "#plt.imshow(empty_img * 256, cmap='gray')\n"
   ]
  },
  {
   "cell_type": "code",
   "execution_count": 4,
   "metadata": {
    "id": "7AysVZe-OLBl"
   },
   "outputs": [],
   "source": [
    "c0 = (int(img_dim[0]/2), 10)      #starting point of blood vessel\n",
    "p0 = 0.5                          #probability of split\n",
    "r0 = int(img_dim[0]/2)/50         #length of each split\n",
    "cntr0 = 0                          #counter of iterations. \n",
    "weight = 5"
   ]
  },
  {
   "cell_type": "code",
   "execution_count": 5,
   "metadata": {
    "id": "K1IyZNVIURZU"
   },
   "outputs": [],
   "source": [
    "# draws a line from (c: int*int) to (c_new: int*int) in the image img where line thickness is w\n",
    "def draw_line(c, c_new, img, w):\n",
    "  #naive line drawing\n",
    "  for i in range(w):\n",
    "    rr, cc = line(c[0], c[1]+i, c_new[0], c_new[1]+i)\n",
    "    img[rr, cc] = 256"
   ]
  },
  {
   "cell_type": "code",
   "execution_count": 6,
   "metadata": {
    "colab": {
     "base_uri": "https://localhost:8080/",
     "height": 282
    },
    "id": "IsJSN9NaVlz3",
    "outputId": "bf7bd021-ea1b-4d2b-82c7-b4c49f8cfeeb"
   },
   "outputs": [
    {
     "data": {
      "text/plain": [
       "<matplotlib.image.AxesImage at 0x2309426a070>"
      ]
     },
     "execution_count": 6,
     "metadata": {},
     "output_type": "execute_result"
    },
    {
     "data": {
      "image/png": "[encoded data removed]",
      "text/plain": [
       "<Figure size 432x288 with 1 Axes>"
      ]
     },
     "metadata": {
      "needs_background": "light"
     },
     "output_type": "display_data"
    }
   ],
   "source": [
    "# Test of draw_line \n",
    "img0 = np.zeros((20, 20))\n",
    "draw_line((10,10),(0, 10),img0, weight)\n",
    "plt.imshow(img0)\n"
   ]
  },
  {
   "cell_type": "code",
   "execution_count": 52,
   "metadata": {
    "id": "6vFjUsuvVwRF"
   },
   "outputs": [],
   "source": [
    "import random\n",
    "import math\n",
    "from skimage.draw import line\n",
    "import matplotlib.pyplot as plt\n",
    "from PIL import ImageDraw, Image\n",
    "\n",
    "startX = 5\n",
    "startY = 200\n",
    "startAngle = 0\n",
    "maxDepth = 15\n",
    "lengthMedian = 20\n",
    "lengthStdVar = 5\n",
    "biforcProb = 0.3\n",
    "angleBiforc = math.pi/8\n",
    "angleStdDev = math.pi/16\n",
    "\n",
    "\n",
    "\n",
    "def newLength():\n",
    "    return random.gauss(lengthMedian, lengthStdVar)\n",
    "\n",
    "def newAngle(angle):\n",
    "    return random.gauss(angle, angleStdDev)\n",
    "\n",
    "def newCoords(coord, angle):\n",
    "    length = newLength()\n",
    "    x,y = coord\n",
    "    newX = x + math.cos(angle)*length\n",
    "    newY = y + math.sin(angle)*length\n",
    "    return newX,newY\n",
    "\n",
    "\n",
    "class Node:\n",
    "    def __init__(self, coord, angle, d):\n",
    "        self.coord = coord\n",
    "        self.d = d\n",
    "        self.angle = angle\n",
    "        self.children = []\n",
    "\n",
    "    #Creates a child node\n",
    "    def createChild(self,angle):\n",
    "        newA = newAngle(angle)\n",
    "        newCoord = newCoords(self.coord, newA)\n",
    "        return Node(newCoord, newA, self.d-1)\n",
    "    \n",
    "    #Creates and add either 1 or 2 children to the parent node.\n",
    "    def addChildren(self):\n",
    "        biforcation = (random.random() < biforcProb)\n",
    "        if biforcation:\n",
    "            #Make 2 children mirrored across an angle\n",
    "            leftChild = self.createChild(self.angle + angleBiforc)\n",
    "            self.children.append(leftChild)\n",
    "            rightChild = self.createChild(self.angle - angleBiforc)\n",
    "            self.children.append(rightChild)\n",
    "        else:\n",
    "            #Make 1 child following an angle\n",
    "            singleChild = self.createChild(self.angle)\n",
    "            self.children.append(singleChild)\n",
    "\n",
    "class Tree:\n",
    "    def __init__(self):\n",
    "        ()\n",
    "\n",
    "    def addRoot(self,x,y, startAngle, d):\n",
    "        self.root = Node((x,y), startAngle, d)\n",
    "\n",
    "\n",
    "def treeHelper(node):\n",
    "    if node.d == 1:\n",
    "        return\n",
    "    else:\n",
    "        node.addChildren()\n",
    "        for child in node.children:\n",
    "          treeHelper(child)\n",
    "\n",
    "def makeTree(startCoord, startAngle):\n",
    "    tree = Tree()\n",
    "    tree.addRoot(startCoord[0], startCoord[1], startAngle, maxDepth)\n",
    "    treeHelper(tree.root)\n",
    "    return tree\n",
    "\n",
    "def nodeInside(cx, cy, X, Y):\n",
    "  return (cx < X and cx >= 0 and cy < Y and cy >= 0)\n",
    "\n",
    "def drawNode(node, draw):\n",
    "  if len(node.children) >= 1:\n",
    "    px, py = int(node.coord[0]), int(node.coord[1])\n",
    "    for child in node.children:\n",
    "      cx, cy = int(child.coord[0]), int(child.coord[1])\n",
    "      draw.line((px, py, cx, cy), fill = 255, width=child.d)\n",
    "      drawNode(child, draw)\n",
    "  else:\n",
    "    return\n",
    "\n",
    "\n",
    "\n",
    "\n",
    "#Makes a treewalk, and finds minimum and maximum x, y values for tree\n",
    "def drawTree(tree, dim):\n",
    "  img = Image.new(\"1\", dim)\n",
    "  draw = ImageDraw.Draw(img)\n",
    "  drawNode(tree.root, draw)\n",
    "  img.show()\n",
    "  return img\n",
    "  #help function that draws line from parent to each of its children. Should check for borders"
   ]
  },
  {
   "cell_type": "code",
   "execution_count": 53,
   "metadata": {
    "colab": {
     "base_uri": "https://localhost:8080/",
     "height": 268
    },
    "id": "miGcOQhE1I5j",
    "outputId": "20404011-0294-49dd-c345-a9812b37ad25"
   },
   "outputs": [],
   "source": [
    "import numpy as np\n",
    "\n",
    "#arr = np.zeros((100, 100))\n",
    "\n",
    "tree = makeTree((startX, startY), startAngle)\n",
    "synAngio = drawTree(tree, (400, 400))\n"
   ]
  },
  {
   "cell_type": "code",
   "execution_count": 54,
   "metadata": {},
   "outputs": [],
   "source": [
    "#synAngio.save(\"test_image.PNG\")"
   ]
  }
 ],
 "metadata": {
  "colab": {
   "provenance": []
  },
  "kernelspec": {
   "display_name": "base",
   "language": "python",
   "name": "python3"
  },
  "language_info": {
   "codemirror_mode": {
    "name": "ipython",
    "version": 3
   },
   "file_extension": ".py",
   "mimetype": "text/x-python",
   "name": "python",
   "nbconvert_exporter": "python",
   "pygments_lexer": "ipython3",
   "version": "3.8.3"
  },
  "vscode": {
   "interpreter": {
    "hash": "dfa4efc2e7985e6916682396d3eaefec524ac10635f8db4811019e26e0d754ec"
   }
  }
 },
 "nbformat": 4,
 "nbformat_minor": 1
}
