{
 "cells": [
  {
   "cell_type": "markdown",
   "metadata": {
    "id": "L2xAshEHJ10k"
   },
   "source": [
    "Document for Model training\n",
    "\n"
   ]
  },
  {
   "cell_type": "markdown",
   "metadata": {
    "id": "V4AfHQ06Mvog"
   },
   "source": [
    "Importing packages"
   ]
  },
  {
   "cell_type": "code",
   "execution_count": 1,
   "metadata": {},
   "outputs": [],
   "source": [
    "import random\n",
    "import math\n",
    "import matplotlib.pyplot as plt\n",
    "from PIL import ImageDraw, Image\n",
    "import bifurcationMathFunctions as bmf\n",
    "import numpy as np"
   ]
  },
  {
   "attachments": {},
   "cell_type": "markdown",
   "metadata": {},
   "source": [
    "Setting Constants"
   ]
  },
  {
   "cell_type": "code",
   "execution_count": 3,
   "metadata": {},
   "outputs": [],
   "source": [
    "startX = 5\n",
    "startY = 200\n",
    "startAngle = 0\n",
    "starWidth = 15\n",
    "stopWidth = 2\n",
    "startLength = 20\n",
    "bifurcProb = 0.3\n",
    "bifurcBigLeft = 0.5"
   ]
  },
  {
   "attachments": {},
   "cell_type": "markdown",
   "metadata": {},
   "source": [
    "Synthetic Angiogram Class: Node"
   ]
  },
  {
   "cell_type": "code",
   "execution_count": 4,
   "metadata": {},
   "outputs": [],
   "source": [
    "class Node:\n",
    "    def __init__(self, coord, width, length, angle):\n",
    "        self.coord = coord\n",
    "        self.width = width\n",
    "        self.length = length\n",
    "        self.angle = angle\n",
    "        self.children = []\n",
    "\n",
    "    #Creates a child node\n",
    "    def createChild(self, angle, ratio):\n",
    "        newWidth = self.width*ratio\n",
    "        newLength = self.length*ratio\n",
    "        curX = self.coord[0]\n",
    "        curY = self.coord[1]\n",
    "        newX = curX + math.cos(angle)*newLength\n",
    "        newY = curY + math.sin(angle)*newLength\n",
    "        newCoord = newX, newY\n",
    "        return Node(newCoord, newWidth, newLength, angle)\n",
    "\n",
    "    #Creates and add either 1 or 2 children to the parent node.\n",
    "    def addChildren(self):\n",
    "        bifurcation = (random.random() < bifurcProb)\n",
    "        if bifurcation:\n",
    "            # alpha is the ratio between diameters small/big\n",
    "            alpha = bmf.getRandomAlpha()\n",
    "            # Make 2 children mirrored across an angle\n",
    "            # getAllParameters returns (bigParams, smallParams).\n",
    "            # The bifurcBigLeft randomises direction of biggest new artery\n",
    "            if bifurcBigLeft < random.random():\n",
    "                (ratioL, ratioR), (angleL, angleR) = bmf.getAllParameters(alpha)\n",
    "            else:\n",
    "                (ratioR, ratioL), (angleR, angleL) = bmf.getAllParameters(alpha)\n",
    "            leftChild = self.createChild(self.angle-angleL, ratioL)\n",
    "            self.children.append(leftChild)\n",
    "            rightChild = self.createChild(self.angle+angleR, ratioR)\n",
    "            self.children.append(rightChild)\n",
    "        else:\n",
    "            #Make 1 child following an angle\n",
    "            singleChild = self.createChild(self.angle, 1)\n",
    "            self.children.append(singleChild)"
   ]
  },
  {
   "cell_type": "markdown",
   "metadata": {},
   "source": [
    "Synthetic Angiogram Class: Tree"
   ]
  },
  {
   "cell_type": "code",
   "execution_count": 5,
   "metadata": {},
   "outputs": [],
   "source": [
    "class Tree:\n",
    "    def __init__(self, x, y, width, length, angle):\n",
    "        self.addRoot(x,y, width, length, angle)\n",
    "        self.makeTree()\n",
    "\n",
    "    def addRoot(self, x, y, width, length, angle):\n",
    "        self.root = Node((x,y), width, length, angle)\n",
    "    \n",
    "    def growTree(self, node):\n",
    "        if node.width < stopWidth:\n",
    "            return\n",
    "        else:\n",
    "            node.addChildren()\n",
    "            for child in node.children:\n",
    "                self.growTree(child)\n",
    "    \n",
    "    def makeTree(self):\n",
    "        self.growTree(self.root)\n",
    "        "
   ]
  },
  {
   "attachments": {},
   "cell_type": "markdown",
   "metadata": {},
   "source": [
    "Drawing Tree"
   ]
  },
  {
   "cell_type": "code",
   "execution_count": 6,
   "metadata": {},
   "outputs": [],
   "source": [
    "def nodeInside(cx, cy, X, Y):\n",
    "    return (cx < X and cx >= 0 and cy < Y and cy >= 0)\n",
    "\n",
    "def drawNode(node, draw):\n",
    "    if len(node.children) >= 1:\n",
    "        px, py = int(node.coord[0]), int(node.coord[1])\n",
    "        for child in node.children:\n",
    "            cx, cy = int(child.coord[0]), int(child.coord[1])\n",
    "            draw.line((px, py, cx, cy), fill = 1, width=int(child.width))\n",
    "            drawNode(child, draw)\n",
    "    else:\n",
    "        return\n",
    "\n",
    "#Makes a treewalk, and finds minimum and maximum x, y values for tree\n",
    "def drawTree(tree, dim):\n",
    "    img = Image.new(\"1\", dim)\n",
    "    draw = ImageDraw.Draw(img)\n",
    "    drawNode(tree.root, draw)\n",
    "    img = np.array(img)\n",
    "    #plt.imshow(img,cmap=\"gray\")\n",
    "    return img\n",
    "#help function that draws line from parent to each of its children. Should check for borders"
   ]
  },
  {
   "attachments": {},
   "cell_type": "markdown",
   "metadata": {},
   "source": [
    "Executing"
   ]
  },
  {
   "cell_type": "code",
   "execution_count": 8,
   "metadata": {
    "colab": {
     "base_uri": "https://localhost:8080/",
     "height": 268
    },
    "id": "miGcOQhE1I5j",
    "outputId": "20404011-0294-49dd-c345-a9812b37ad25"
   },
   "outputs": [],
   "source": [
    "tree = Tree(startX, startY, starWidth, startLength, startAngle)\n",
    "synAngio = drawTree(tree, (736, 736))\n",
    "\n",
    "for i in range(10):\n",
    "    tree = Tree(startX, startY, starWidth, startLength, startAngle)\n",
    "    synAngio = drawTree(tree, (736, 736))"
   ]
  },
  {
   "cell_type": "code",
   "execution_count": 54,
   "metadata": {},
   "outputs": [],
   "source": [
    "#synAngio.save(\"test_image.PNG\")"
   ]
  }
 ],
 "metadata": {
  "colab": {
   "provenance": []
  },
  "kernelspec": {
   "display_name": "Python 3",
   "language": "python",
   "name": "python3"
  },
  "language_info": {
   "codemirror_mode": {
    "name": "ipython",
    "version": 3
   },
   "file_extension": ".py",
   "mimetype": "text/x-python",
   "name": "python",
   "nbconvert_exporter": "python",
   "pygments_lexer": "ipython3",
   "version": "3.11.0"
  },
  "vscode": {
   "interpreter": {
    "hash": "c261aea317cc0286b3b3261fbba9abdec21eaa57589985bb7a274bf54d6cc0a7"
   }
  }
 },
 "nbformat": 4,
 "nbformat_minor": 1
}
